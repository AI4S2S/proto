{
 "cells": [
  {
   "cell_type": "markdown",
   "metadata": {},
   "source": [
    "# Find Teleconnections (precursor regions) via correlation maps "
   ]
  },
  {
   "cell_type": "code",
   "execution_count": 1,
   "metadata": {},
   "outputs": [
    {
     "name": "stdout",
     "output_type": "stream",
     "text": [
      "/Users/semvijverberg/surfdrive/Scripts/RGCPD\n"
     ]
    },
    {
     "name": "stderr",
     "output_type": "stream",
     "text": [
      "/Users/semvijverberg/miniconda3/envs/RGCPD/lib/python3.7/site-packages/statsmodels/tools/_testing.py:19: FutureWarning: pandas.util.testing is deprecated. Use the functions in the public API at pandas.testing instead.\n",
      "  import pandas.util.testing as tm\n"
     ]
    },
    {
     "name": "stdout",
     "output_type": "stream",
     "text": [
      "could not import mtspec\n"
     ]
    }
   ],
   "source": [
    "import os, inspect\n",
    "main_dir = os.path.dirname(os.path.abspath(inspect.getfile(inspect.currentframe()))) # script directory\n",
    "print(main_dir)\n",
    "%load_ext autoreload\n",
    "%autoreload 2\n",
    "from RGCPD import RGCPD\n",
    "from RGCPD import BivariateMI\n",
    "import class_BivariateMI, functions_pp"
   ]
  },
  {
   "cell_type": "raw",
   "metadata": {},
   "source": [
    "\n",
    "Class to study teleconnections of a Response Variable* of interest. \n",
    "\n",
    "    Methods to extract teleconnections/precursors:\n",
    "        - BivariateMI (now only supporting correlation maps)\n",
    "        - EOF analysis\n",
    "\n",
    "    BivariateMI (MI = Mutual Information) is class which allows for a \n",
    "    statistical test in the form:\n",
    "    MI(lon,lat) = for gc in map: func(x(t), y(t)),\n",
    "    where map is a (time,lon,lat) map and gc stands for each gridcell/coordinate \n",
    "    in that map. The y is always the same 1-dimensional timeseries of interest \n",
    "    (i.e. the Response Variable). At this point, only supports the \n",
    "    correlation analysis. Once the significance is attributed, it is stored\n",
    "    in the MI map. Precursor regions are found by clustering the\n",
    "    significantly (correlating) gridcells (+ and - regions are separated)\n",
    "    and extract their spatial mean timeseries. \n",
    "\n",
    "    *Sometimes Response Variable is also called Target Variable.\n",
    "\n",
    "    Parameters\n",
    "    ----------\n",
    "    list_of_name_path : list, optional\n",
    "        list of (name, path) tuples defining the input data (.nc). \n",
    "\n",
    "        Convention: first entry should be (name, path) of target variable (TV).    \n",
    "        e.g. list_of_name_path = [('TVname', 'TVpath'), ('prec_name', 'prec_path')]\n",
    "\n",
    "        'prec_name' is a string/key that can be chosen freely, does not have to refer\n",
    "        to the variable in the .nc file.\n",
    "        Each prec_path .nc file should contain only a single variable\n",
    "        of format (time, lat, lon).\n",
    "        'TVname' should refer the name you have given the timeseries on \n",
    "        the dimesion 'cluster', i.e. xrTV.sel(cluster=TVname)\n",
    "        The TVpath Netcdf file assumes that it contains a xr.DataArray\n",
    "        called xrclustered containing a spatial map with clustered regions.\n",
    "        It must contain an xr.DataArray which contains timeseries for each \n",
    "        cluster. See RGCPD.pp_TV().\n",
    "\n",
    "    list_for_EOFS : list, optional\n",
    "        list of EOF classes, see docs EOF?\n",
    "    import_prec_ts : list, optional\n",
    "        Load in precursor 1-d timeseries in format:\n",
    "                      [(name1, path_to_h5_file1), [(name2, path_to_h5_file2)]]\n",
    "                      precursor_ts should follow the RGCPD traintest format\n",
    "    start_end_TVdate : tuple, optional\n",
    "        tuple of start- and enddate for target variable in \n",
    "        format ('mm-dd', 'mm-dd').\n",
    "    tfreq : int, optional\n",
    "        The default is 10.\n",
    "    start_end_date : tuple, optional\n",
    "        tuple of start- and enddate for data to load in \n",
    "        format ('mm-dd', 'mm-dd'). default is ('01-01' - '12-31')\n",
    "    start_end_year : tuple, optional\n",
    "        default is to load all years\n",
    "    lags_i : nparray, optional\n",
    "        The default is np.array([0]).            \n",
    "    path_outmain : str, optional\n",
    "        Root folder for output. Default is your \n",
    "        '/users/{username}/Download'' path\n",
    "    append_pathsub: str, optional\n",
    "        The first subfolder will be created below path_outmain, to store\n",
    "        output data & figures. The append_pathsub1 argument allows you to \n",
    "        manually add some hash or string refering to some experiment.\n",
    "    verbosity : int, optional\n",
    "        Regulate the amount of feedback given by the code.\n",
    "        The default is 1.\n",
    "\n",
    "    Returns\n",
    "    -------\n",
    "    initialization of the RGCPD class"
   ]
  },
  {
   "cell_type": "code",
   "execution_count": 2,
   "metadata": {},
   "outputs": [],
   "source": [
    "# define input: list_of_name_path = [('TVname', 'TVpath'), ('prec_name', 'prec_path')]\n",
    "path_test = os.path.join(main_dir, 'data')\n",
    "list_of_name_path = [(3, os.path.join(path_test, 'tf5_nc5_dendo_80d77.nc')),\n",
    "                    ('sst', os.path.join(path_test,'sst_daily_1979-2018_5deg_Pacific_175_240E_25_50N.nc'))]\n",
    "\n",
    "# define analysis:\n",
    "list_for_MI = [BivariateMI(name='sst', func=class_BivariateMI.corr_map, \n",
    "                          alpha=.01, FDR_control=True, \n",
    "                          distance_eps=700, min_area_in_degrees2=5)]\n",
    "\n",
    "rg = RGCPD(list_of_name_path=list_of_name_path,\n",
    "           list_for_MI=list_for_MI,\n",
    "           path_outmain=os.path.join(main_dir,'data'))"
   ]
  },
  {
   "cell_type": "code",
   "execution_count": 3,
   "metadata": {},
   "outputs": [
    {
     "name": "stdout",
     "output_type": "stream",
     "text": [
      "sorting latitude\n",
      "Plotting Corr maps xrclustered, split 0, lag 0\n"
     ]
    },
    {
     "data": {
      "image/png": "[encoded data removed]",
      "text/plain": [
       "<Figure size 472.39x216 with 2 Axes>"
      ]
     },
     "metadata": {
      "needs_background": "light"
     },
     "output_type": "display_data"
    }
   ],
   "source": [
    "# if TVpath contains the xr.DataArray xrclustered, we can have a look at the spatial regions.\n",
    "rg.plot_df_clust()"
   ]
  },
  {
   "cell_type": "code",
   "execution_count": 4,
   "metadata": {},
   "outputs": [
    {
     "name": "stdout",
     "output_type": "stream",
     "text": [
      "Loaded pre-processed data of sst\n",
      "\n"
     ]
    }
   ],
   "source": [
    "rg.pp_precursors(detrend=True, anomaly=True, selbox=None)"
   ]
  },
  {
   "cell_type": "markdown",
   "metadata": {},
   "source": [
    "### Post-processing Target Variable"
   ]
  },
  {
   "cell_type": "code",
   "execution_count": 5,
   "metadata": {},
   "outputs": [
    {
     "name": "stdout",
     "output_type": "stream",
     "text": [
      "sorting latitude\n",
      "original tfreq of imported response variable is converted to desired tfreq\n"
     ]
    }
   ],
   "source": [
    "rg.pp_TV()"
   ]
  },
  {
   "cell_type": "code",
   "execution_count": 6,
   "metadata": {},
   "outputs": [
    {
     "data": {
      "text/html": [
       "<div><svg style=\"position: absolute; width: 0; height: 0; overflow: hidden\">\n",
       "<defs>\n",
       "<symbol id=\"icon-database\" viewBox=\"0 0 32 32\">\n",
       "<title>Show/Hide data repr</title>\n",
       "<path d=\"M16 0c-8.837 0-16 2.239-16 5v4c0 2.761 7.163 5 16 5s16-2.239 16-5v-4c0-2.761-7.163-5-16-5z\"></path>\n",
       "<path d=\"M16 17c-8.837 0-16-2.239-16-5v6c0 2.761 7.163 5 16 5s16-2.239 16-5v-6c0 2.761-7.163 5-16 5z\"></path>\n",
       "<path d=\"M16 26c-8.837 0-16-2.239-16-5v6c0 2.761 7.163 5 16 5s16-2.239 16-5v-6c0 2.761-7.163 5-16 5z\"></path>\n",
       "</symbol>\n",
       "<symbol id=\"icon-file-text2\" viewBox=\"0 0 32 32\">\n",
       "<title>Show/Hide attributes</title>\n",
       "<path d=\"M28.681 7.159c-0.694-0.947-1.662-2.053-2.724-3.116s-2.169-2.030-3.116-2.724c-1.612-1.182-2.393-1.319-2.841-1.319h-15.5c-1.378 0-2.5 1.121-2.5 2.5v27c0 1.378 1.122 2.5 2.5 2.5h23c1.378 0 2.5-1.122 2.5-2.5v-19.5c0-0.448-0.137-1.23-1.319-2.841zM24.543 5.457c0.959 0.959 1.712 1.825 2.268 2.543h-4.811v-4.811c0.718 0.556 1.584 1.309 2.543 2.268zM28 29.5c0 0.271-0.229 0.5-0.5 0.5h-23c-0.271 0-0.5-0.229-0.5-0.5v-27c0-0.271 0.229-0.5 0.5-0.5 0 0 15.499-0 15.5 0v7c0 0.552 0.448 1 1 1h7v19.5z\"></path>\n",
       "<path d=\"M23 26h-14c-0.552 0-1-0.448-1-1s0.448-1 1-1h14c0.552 0 1 0.448 1 1s-0.448 1-1 1z\"></path>\n",
       "<path d=\"M23 22h-14c-0.552 0-1-0.448-1-1s0.448-1 1-1h14c0.552 0 1 0.448 1 1s-0.448 1-1 1z\"></path>\n",
       "<path d=\"M23 18h-14c-0.552 0-1-0.448-1-1s0.448-1 1-1h14c0.552 0 1 0.448 1 1s-0.448 1-1 1z\"></path>\n",
       "</symbol>\n",
       "</defs>\n",
       "</svg>\n",
       "<style>/* CSS stylesheet for displaying xarray objects in jupyterlab.\n",
       " *\n",
       " */\n",
       "\n",
       ":root {\n",
       "  --xr-font-color0: var(--jp-content-font-color0, rgba(0, 0, 0, 1));\n",
       "  --xr-font-color2: var(--jp-content-font-color2, rgba(0, 0, 0, 0.54));\n",
       "  --xr-font-color3: var(--jp-content-font-color3, rgba(0, 0, 0, 0.38));\n",
       "  --xr-border-color: var(--jp-border-color2, #e0e0e0);\n",
       "  --xr-disabled-color: var(--jp-layout-color3, #bdbdbd);\n",
       "  --xr-background-color: var(--jp-layout-color0, white);\n",
       "  --xr-background-color-row-even: var(--jp-layout-color1, white);\n",
       "  --xr-background-color-row-odd: var(--jp-layout-color2, #eeeeee);\n",
       "}\n",
       "\n",
       ".xr-wrap {\n",
       "  min-width: 300px;\n",
       "  max-width: 700px;\n",
       "}\n",
       "\n",
       ".xr-header {\n",
       "  padding-top: 6px;\n",
       "  padding-bottom: 6px;\n",
       "  margin-bottom: 4px;\n",
       "  border-bottom: solid 1px var(--xr-border-color);\n",
       "}\n",
       "\n",
       ".xr-header > div,\n",
       ".xr-header > ul {\n",
       "  display: inline;\n",
       "  margin-top: 0;\n",
       "  margin-bottom: 0;\n",
       "}\n",
       "\n",
       ".xr-obj-type,\n",
       ".xr-array-name {\n",
       "  margin-left: 2px;\n",
       "  margin-right: 10px;\n",
       "}\n",
       "\n",
       ".xr-obj-type {\n",
       "  color: var(--xr-font-color2);\n",
       "}\n",
       "\n",
       ".xr-sections {\n",
       "  padding-left: 0 !important;\n",
       "  display: grid;\n",
       "  grid-template-columns: 150px auto auto 1fr 20px 20px;\n",
       "}\n",
       "\n",
       ".xr-section-item {\n",
       "  display: contents;\n",
       "}\n",
       "\n",
       ".xr-section-item input {\n",
       "  display: none;\n",
       "}\n",
       "\n",
       ".xr-section-item input + label {\n",
       "  color: var(--xr-disabled-color);\n",
       "}\n",
       "\n",
       ".xr-section-item input:enabled + label {\n",
       "  cursor: pointer;\n",
       "  color: var(--xr-font-color2);\n",
       "}\n",
       "\n",
       ".xr-section-item input:enabled + label:hover {\n",
       "  color: var(--xr-font-color0);\n",
       "}\n",
       "\n",
       ".xr-section-summary {\n",
       "  grid-column: 1;\n",
       "  color: var(--xr-font-color2);\n",
       "  font-weight: 500;\n",
       "}\n",
       "\n",
       ".xr-section-summary > span {\n",
       "  display: inline-block;\n",
       "  padding-left: 0.5em;\n",
       "}\n",
       "\n",
       ".xr-section-summary-in:disabled + label {\n",
       "  color: var(--xr-font-color2);\n",
       "}\n",
       "\n",
       ".xr-section-summary-in + label:before {\n",
       "  display: inline-block;\n",
       "  content: '►';\n",
       "  font-size: 11px;\n",
       "  width: 15px;\n",
       "  text-align: center;\n",
       "}\n",
       "\n",
       ".xr-section-summary-in:disabled + label:before {\n",
       "  color: var(--xr-disabled-color);\n",
       "}\n",
       "\n",
       ".xr-section-summary-in:checked + label:before {\n",
       "  content: '▼';\n",
       "}\n",
       "\n",
       ".xr-section-summary-in:checked + label > span {\n",
       "  display: none;\n",
       "}\n",
       "\n",
       ".xr-section-summary,\n",
       ".xr-section-inline-details {\n",
       "  padding-top: 4px;\n",
       "  padding-bottom: 4px;\n",
       "}\n",
       "\n",
       ".xr-section-inline-details {\n",
       "  grid-column: 2 / -1;\n",
       "}\n",
       "\n",
       ".xr-section-details {\n",
       "  display: none;\n",
       "  grid-column: 1 / -1;\n",
       "  margin-bottom: 5px;\n",
       "}\n",
       "\n",
       ".xr-section-summary-in:checked ~ .xr-section-details {\n",
       "  display: contents;\n",
       "}\n",
       "\n",
       ".xr-array-wrap {\n",
       "  grid-column: 1 / -1;\n",
       "  display: grid;\n",
       "  grid-template-columns: 20px auto;\n",
       "}\n",
       "\n",
       ".xr-array-wrap > label {\n",
       "  grid-column: 1;\n",
       "  vertical-align: top;\n",
       "}\n",
       "\n",
       ".xr-preview {\n",
       "  color: var(--xr-font-color3);\n",
       "}\n",
       "\n",
       ".xr-array-preview,\n",
       ".xr-array-data {\n",
       "  padding: 0 5px !important;\n",
       "  grid-column: 2;\n",
       "}\n",
       "\n",
       ".xr-array-data,\n",
       ".xr-array-in:checked ~ .xr-array-preview {\n",
       "  display: none;\n",
       "}\n",
       "\n",
       ".xr-array-in:checked ~ .xr-array-data,\n",
       ".xr-array-preview {\n",
       "  display: inline-block;\n",
       "}\n",
       "\n",
       ".xr-dim-list {\n",
       "  display: inline-block !important;\n",
       "  list-style: none;\n",
       "  padding: 0 !important;\n",
       "  margin: 0;\n",
       "}\n",
       "\n",
       ".xr-dim-list li {\n",
       "  display: inline-block;\n",
       "  padding: 0;\n",
       "  margin: 0;\n",
       "}\n",
       "\n",
       ".xr-dim-list:before {\n",
       "  content: '(';\n",
       "}\n",
       "\n",
       ".xr-dim-list:after {\n",
       "  content: ')';\n",
       "}\n",
       "\n",
       ".xr-dim-list li:not(:last-child):after {\n",
       "  content: ',';\n",
       "  padding-right: 5px;\n",
       "}\n",
       "\n",
       ".xr-has-index {\n",
       "  font-weight: bold;\n",
       "}\n",
       "\n",
       ".xr-var-list,\n",
       ".xr-var-item {\n",
       "  display: contents;\n",
       "}\n",
       "\n",
       ".xr-var-item > div,\n",
       ".xr-var-item label,\n",
       ".xr-var-item > .xr-var-name span {\n",
       "  background-color: var(--xr-background-color-row-even);\n",
       "  margin-bottom: 0;\n",
       "}\n",
       "\n",
       ".xr-var-item > .xr-var-name:hover span {\n",
       "  padding-right: 5px;\n",
       "}\n",
       "\n",
       ".xr-var-list > li:nth-child(odd) > div,\n",
       ".xr-var-list > li:nth-child(odd) > label,\n",
       ".xr-var-list > li:nth-child(odd) > .xr-var-name span {\n",
       "  background-color: var(--xr-background-color-row-odd);\n",
       "}\n",
       "\n",
       ".xr-var-name {\n",
       "  grid-column: 1;\n",
       "}\n",
       "\n",
       ".xr-var-dims {\n",
       "  grid-column: 2;\n",
       "}\n",
       "\n",
       ".xr-var-dtype {\n",
       "  grid-column: 3;\n",
       "  text-align: right;\n",
       "  color: var(--xr-font-color2);\n",
       "}\n",
       "\n",
       ".xr-var-preview {\n",
       "  grid-column: 4;\n",
       "}\n",
       "\n",
       ".xr-var-name,\n",
       ".xr-var-dims,\n",
       ".xr-var-dtype,\n",
       ".xr-preview,\n",
       ".xr-attrs dt {\n",
       "  white-space: nowrap;\n",
       "  overflow: hidden;\n",
       "  text-overflow: ellipsis;\n",
       "  padding-right: 10px;\n",
       "}\n",
       "\n",
       ".xr-var-name:hover,\n",
       ".xr-var-dims:hover,\n",
       ".xr-var-dtype:hover,\n",
       ".xr-attrs dt:hover {\n",
       "  overflow: visible;\n",
       "  width: auto;\n",
       "  z-index: 1;\n",
       "}\n",
       "\n",
       ".xr-var-attrs,\n",
       ".xr-var-data {\n",
       "  display: none;\n",
       "  background-color: var(--xr-background-color) !important;\n",
       "  padding-bottom: 5px !important;\n",
       "}\n",
       "\n",
       ".xr-var-attrs-in:checked ~ .xr-var-attrs,\n",
       ".xr-var-data-in:checked ~ .xr-var-data {\n",
       "  display: block;\n",
       "}\n",
       "\n",
       ".xr-var-data > table {\n",
       "  float: right;\n",
       "}\n",
       "\n",
       ".xr-var-name span,\n",
       ".xr-var-data,\n",
       ".xr-attrs {\n",
       "  padding-left: 25px !important;\n",
       "}\n",
       "\n",
       ".xr-attrs,\n",
       ".xr-var-attrs,\n",
       ".xr-var-data {\n",
       "  grid-column: 1 / -1;\n",
       "}\n",
       "\n",
       "dl.xr-attrs {\n",
       "  padding: 0;\n",
       "  margin: 0;\n",
       "  display: grid;\n",
       "  grid-template-columns: 125px auto;\n",
       "}\n",
       "\n",
       ".xr-attrs dt, dd {\n",
       "  padding: 0;\n",
       "  margin: 0;\n",
       "  float: left;\n",
       "  padding-right: 10px;\n",
       "  width: auto;\n",
       "}\n",
       "\n",
       ".xr-attrs dt {\n",
       "  font-weight: normal;\n",
       "  grid-column: 1;\n",
       "}\n",
       "\n",
       ".xr-attrs dt:hover span {\n",
       "  display: inline-block;\n",
       "  background: var(--xr-background-color);\n",
       "  padding-right: 10px;\n",
       "}\n",
       "\n",
       ".xr-attrs dd {\n",
       "  grid-column: 2;\n",
       "  white-space: pre-wrap;\n",
       "  word-break: break-all;\n",
       "}\n",
       "\n",
       ".xr-icon-database,\n",
       ".xr-icon-file-text2 {\n",
       "  display: inline-block;\n",
       "  vertical-align: middle;\n",
       "  width: 1em;\n",
       "  height: 1.5em !important;\n",
       "  stroke-width: 0;\n",
       "  stroke: currentColor;\n",
       "  fill: currentColor;\n",
       "}\n",
       "</style><div class='xr-wrap'><div class='xr-header'><div class='xr-obj-type'>xarray.DataArray</div><div class='xr-array-name'>'3ts'</div><ul class='xr-dim-list'><li><span class='xr-has-index'>time</span>: 14600</li></ul></div><ul class='xr-sections'><li class='xr-section-item'><div class='xr-array-wrap'><input id='section-ddc6162b-3610-4728-a06b-79c7760a6bc1' class='xr-array-in' type='checkbox' ><label for='section-ddc6162b-3610-4728-a06b-79c7760a6bc1' title='Show/hide data repr'><svg class='icon xr-icon-database'><use xlink:href='#icon-database'></use></svg></label><div class='xr-array-preview xr-preview'><span>-2.664 -9.342 -11.17 -9.356 -10.43 ... 4.66 3.321 -3.134 1.409 4.679</span></div><pre class='xr-array-data'>array([ -2.66422765,  -9.34189027, -11.16650571, ...,  -3.13444339,\n",
       "         1.40941338,   4.67877285])</pre></div></li><li class='xr-section-item'><input id='section-77b72470-2f3c-46b4-a636-70a87d670c94' class='xr-section-summary-in' type='checkbox'  checked><label for='section-77b72470-2f3c-46b4-a636-70a87d670c94' class='xr-section-summary' >Coordinates: <span>(4)</span></label><div class='xr-section-inline-details'></div><div class='xr-section-details'><ul class='xr-var-list'><li class='xr-var-item'><div class='xr-var-name'><span>tfreq</span></div><div class='xr-var-dims'>()</div><div class='xr-var-dtype'>int64</div><div class='xr-var-preview xr-preview'>5</div><input id='attrs-7daedecb-1b80-45cd-b501-0314e94d7aba' class='xr-var-attrs-in' type='checkbox' disabled><label for='attrs-7daedecb-1b80-45cd-b501-0314e94d7aba' title='Show/Hide attributes'><svg class='icon xr-icon-file-text2'><use xlink:href='#icon-file-text2'></use></svg></label><input id='data-6e8a4283-9c7a-4a9d-aa7b-a2cfc13992d4' class='xr-var-data-in' type='checkbox'><label for='data-6e8a4283-9c7a-4a9d-aa7b-a2cfc13992d4' title='Show/Hide data repr'><svg class='icon xr-icon-database'><use xlink:href='#icon-database'></use></svg></label><div class='xr-var-attrs'><dl class='xr-attrs'></dl></div><pre class='xr-var-data'>array(5)</pre></li><li class='xr-var-item'><div class='xr-var-name'><span>n_clusters</span></div><div class='xr-var-dims'>()</div><div class='xr-var-dtype'>int64</div><div class='xr-var-preview xr-preview'>6</div><input id='attrs-e7dffdad-75d1-4c5e-bfbe-6d29ffd16441' class='xr-var-attrs-in' type='checkbox' disabled><label for='attrs-e7dffdad-75d1-4c5e-bfbe-6d29ffd16441' title='Show/Hide attributes'><svg class='icon xr-icon-file-text2'><use xlink:href='#icon-file-text2'></use></svg></label><input id='data-693a0a81-8afb-4228-9710-445b3bf55b3e' class='xr-var-data-in' type='checkbox'><label for='data-693a0a81-8afb-4228-9710-445b3bf55b3e' title='Show/Hide data repr'><svg class='icon xr-icon-database'><use xlink:href='#icon-database'></use></svg></label><div class='xr-var-attrs'><dl class='xr-attrs'></dl></div><pre class='xr-var-data'>array(6)</pre></li><li class='xr-var-item'><div class='xr-var-name'><span>cluster</span></div><div class='xr-var-dims'>()</div><div class='xr-var-dtype'>int64</div><div class='xr-var-preview xr-preview'>3</div><input id='attrs-37fa7581-39d9-4dc7-9093-afc0ec4e60e1' class='xr-var-attrs-in' type='checkbox' disabled><label for='attrs-37fa7581-39d9-4dc7-9093-afc0ec4e60e1' title='Show/Hide attributes'><svg class='icon xr-icon-file-text2'><use xlink:href='#icon-file-text2'></use></svg></label><input id='data-6d32f4ce-22cc-4b9b-9bc2-947f8e481548' class='xr-var-data-in' type='checkbox'><label for='data-6d32f4ce-22cc-4b9b-9bc2-947f8e481548' title='Show/Hide data repr'><svg class='icon xr-icon-database'><use xlink:href='#icon-database'></use></svg></label><div class='xr-var-attrs'><dl class='xr-attrs'></dl></div><pre class='xr-var-data'>array(3)</pre></li><li class='xr-var-item'><div class='xr-var-name'><span class='xr-has-index'>time</span></div><div class='xr-var-dims'>(time)</div><div class='xr-var-dtype'>datetime64[ns]</div><div class='xr-var-preview xr-preview'>1979-01-01 ... 2018-12-31</div><input id='attrs-dae9bc1b-f5ac-4bfe-b2eb-68f9f04649cd' class='xr-var-attrs-in' type='checkbox' disabled><label for='attrs-dae9bc1b-f5ac-4bfe-b2eb-68f9f04649cd' title='Show/Hide attributes'><svg class='icon xr-icon-file-text2'><use xlink:href='#icon-file-text2'></use></svg></label><input id='data-01f8f8ae-d4aa-4012-aa38-b511b8f984d0' class='xr-var-data-in' type='checkbox'><label for='data-01f8f8ae-d4aa-4012-aa38-b511b8f984d0' title='Show/Hide data repr'><svg class='icon xr-icon-database'><use xlink:href='#icon-database'></use></svg></label><div class='xr-var-attrs'><dl class='xr-attrs'></dl></div><pre class='xr-var-data'>array([&#x27;1979-01-01T00:00:00.000000000&#x27;, &#x27;1979-01-02T00:00:00.000000000&#x27;,\n",
       "       &#x27;1979-01-03T00:00:00.000000000&#x27;, ..., &#x27;2018-12-29T00:00:00.000000000&#x27;,\n",
       "       &#x27;2018-12-30T00:00:00.000000000&#x27;, &#x27;2018-12-31T00:00:00.000000000&#x27;],\n",
       "      dtype=&#x27;datetime64[ns]&#x27;)</pre></li></ul></div></li><li class='xr-section-item'><input id='section-ac3d75e6-000f-44ec-bd79-0a366022c910' class='xr-section-summary-in' type='checkbox' disabled ><label for='section-ac3d75e6-000f-44ec-bd79-0a366022c910' class='xr-section-summary'  title='Expand/collapse section'>Attributes: <span>(0)</span></label><div class='xr-section-inline-details'></div><div class='xr-section-details'><dl class='xr-attrs'></dl></div></li></ul></div></div>"
      ],
      "text/plain": [
       "<xarray.DataArray '3ts' (time: 14600)>\n",
       "array([ -2.66422765,  -9.34189027, -11.16650571, ...,  -3.13444339,\n",
       "         1.40941338,   4.67877285])\n",
       "Coordinates:\n",
       "    tfreq       int64 5\n",
       "    n_clusters  int64 6\n",
       "    cluster     int64 3\n",
       "  * time        (time) datetime64[ns] 1979-01-01 1979-01-02 ... 2018-12-31"
      ]
     },
     "execution_count": 6,
     "metadata": {},
     "output_type": "execute_result"
    }
   ],
   "source": [
    "rg.fulltso\n"
   ]
  },
  {
   "cell_type": "code",
   "execution_count": 7,
   "metadata": {},
   "outputs": [
    {
     "data": {
      "text/plain": [
       "\u001b[0;31mSignature:\u001b[0m\n",
       "\u001b[0mrg\u001b[0m\u001b[0;34m.\u001b[0m\u001b[0mtraintest\u001b[0m\u001b[0;34m(\u001b[0m\u001b[0;34m\u001b[0m\n",
       "\u001b[0;34m\u001b[0m    \u001b[0mmethod\u001b[0m\u001b[0;34m:\u001b[0m \u001b[0mstr\u001b[0m \u001b[0;34m=\u001b[0m \u001b[0;32mNone\u001b[0m\u001b[0;34m,\u001b[0m\u001b[0;34m\u001b[0m\n",
       "\u001b[0;34m\u001b[0m    \u001b[0mseed\u001b[0m\u001b[0;34m=\u001b[0m\u001b[0;36m1\u001b[0m\u001b[0;34m,\u001b[0m\u001b[0;34m\u001b[0m\n",
       "\u001b[0;34m\u001b[0m    \u001b[0mkwrgs_events\u001b[0m\u001b[0;34m=\u001b[0m\u001b[0;32mNone\u001b[0m\u001b[0;34m,\u001b[0m\u001b[0;34m\u001b[0m\n",
       "\u001b[0;34m\u001b[0m    \u001b[0msubfoldername\u001b[0m\u001b[0;34m=\u001b[0m\u001b[0;32mNone\u001b[0m\u001b[0;34m,\u001b[0m\u001b[0;34m\u001b[0m\n",
       "\u001b[0;34m\u001b[0m\u001b[0;34m)\u001b[0m\u001b[0;34m\u001b[0m\u001b[0;34m\u001b[0m\u001b[0m\n",
       "\u001b[0;31mDocstring:\u001b[0m\n",
       "Splits the training and test dates, either via cross-validation or\n",
       "via a simple single split.\n",
       "agrs:\n",
       "'method'        : str referring to method to split train test, see\n",
       "                  options for method below.\n",
       "seed            : the seed to draw random samples for train test split\n",
       "kwrgs_events    : dict needed to create binary event timeseries, which\n",
       "                  is used to create stratified folds.\n",
       "                  See func_fc.Ev_timeseries? for more info.\n",
       "\n",
       "Options for method:\n",
       "(1) random{int}   :   with the int(ex['method'][6:8]) determining the amount of folds\n",
       "(2) ran_strat{int}:   random stratified folds, stratified based upon events,\n",
       "                      requires kwrgs_events.\n",
       "(3) leave_{int}    :   chronologically split train and test years.\n",
       "(4) split{int}    :   split dataset into single train and test set\n",
       "(5) no_train_test_split or False\n",
       "# Extra: RV events settings are needed to make balanced traintest splits\n",
       "Returns panda dataframe with traintest mask and Target variable mask\n",
       "concomitant to each split.\n",
       "\u001b[0;31mFile:\u001b[0m      ~/surfdrive/Scripts/RGCPD/RGCPD/class_RGCPD.py\n",
       "\u001b[0;31mType:\u001b[0m      method\n"
      ]
     },
     "metadata": {},
     "output_type": "display_data"
    }
   ],
   "source": [
    "rg.traintest?"
   ]
  },
  {
   "cell_type": "code",
   "execution_count": 8,
   "metadata": {},
   "outputs": [],
   "source": [
    "rg.traintest(method='random5')"
   ]
  },
  {
   "cell_type": "code",
   "execution_count": 9,
   "metadata": {},
   "outputs": [
    {
     "name": "stdout",
     "output_type": "stream",
     "text": [
      "\n",
      "sst - calculating correlation maps\n",
      "Progress traintest set 100%, trainsize=(288dp, 80%)\n",
      "\n"
     ]
    }
   ],
   "source": [
    "rg.calc_corr_maps() "
   ]
  },
  {
   "cell_type": "code",
   "execution_count": 10,
   "metadata": {},
   "outputs": [
    {
     "name": "stdout",
     "output_type": "stream",
     "text": [
      "Plotting Corr maps sst, split 0, lag 1\n"
     ]
    },
    {
     "data": {
      "image/png": "[encoded data removed]",
      "text/plain": [
       "<Figure size 540x180 with 2 Axes>"
      ]
     },
     "metadata": {
      "needs_background": "light"
     },
     "output_type": "display_data"
    }
   ],
   "source": [
    "rg.plot_maps_corr()"
   ]
  },
  {
   "cell_type": "code",
   "execution_count": 11,
   "metadata": {},
   "outputs": [],
   "source": [
    "rg.cluster_list_MI()"
   ]
  },
  {
   "cell_type": "code",
   "execution_count": 12,
   "metadata": {},
   "outputs": [
    {
     "name": "stdout",
     "output_type": "stream",
     "text": [
      "Plotting Corr maps sst_labels_init, split 0, lag 1\n",
      "Plotting Corr maps sst_labels_init, split 1, lag 1\n",
      "Plotting Corr maps sst_labels_init, split 2, lag 1\n",
      "Plotting Corr maps sst_labels_init, split 3, lag 1\n",
      "Plotting Corr maps sst_labels_init, split 4, lag 1\n"
     ]
    },
    {
     "data": {
      "image/png": "[encoded data removed]",
      "text/plain": [
       "<Figure size 633.6x1080 with 6 Axes>"
      ]
     },
     "metadata": {
      "needs_background": "light"
     },
     "output_type": "display_data"
    }
   ],
   "source": [
    "rg.quick_view_labels(mean=False) "
   ]
  },
  {
   "cell_type": "code",
   "execution_count": 13,
   "metadata": {},
   "outputs": [
    {
     "name": "stdout",
     "output_type": "stream",
     "text": [
      "\n",
      "Getting MI timeseries\n",
      "aggregating precursors to 10 days closed on right 08-31\n",
      "There are [2, 2, 2, 2, 2] regions in total (list of different splits)\n"
     ]
    }
   ],
   "source": [
    "rg.get_ts_prec()"
   ]
  },
  {
   "cell_type": "code",
   "execution_count": 14,
   "metadata": {},
   "outputs": [
    {
     "data": {
      "text/html": [
       "<div>\n",
       "<style scoped>\n",
       "    .dataframe tbody tr th:only-of-type {\n",
       "        vertical-align: middle;\n",
       "    }\n",
       "\n",
       "    .dataframe tbody tr th {\n",
       "        vertical-align: top;\n",
       "    }\n",
       "\n",
       "    .dataframe thead th {\n",
       "        text-align: right;\n",
       "    }\n",
       "</style>\n",
       "<table border=\"1\" class=\"dataframe\">\n",
       "  <thead>\n",
       "    <tr style=\"text-align: right;\">\n",
       "      <th></th>\n",
       "      <th></th>\n",
       "      <th>3ts</th>\n",
       "      <th>1..1..sst</th>\n",
       "      <th>1..2..sst</th>\n",
       "      <th>TrainIsTrue</th>\n",
       "      <th>RV_mask</th>\n",
       "    </tr>\n",
       "  </thead>\n",
       "  <tbody>\n",
       "    <tr>\n",
       "      <th rowspan=\"5\" valign=\"top\">0</th>\n",
       "      <th>1979-01-19</th>\n",
       "      <td>-2.848077</td>\n",
       "      <td>0.244833</td>\n",
       "      <td>0.142718</td>\n",
       "      <td>True</td>\n",
       "      <td>False</td>\n",
       "    </tr>\n",
       "    <tr>\n",
       "      <th>1979-01-29</th>\n",
       "      <td>-5.472298</td>\n",
       "      <td>0.080813</td>\n",
       "      <td>0.197305</td>\n",
       "      <td>True</td>\n",
       "      <td>False</td>\n",
       "    </tr>\n",
       "    <tr>\n",
       "      <th>1979-02-08</th>\n",
       "      <td>-8.489348</td>\n",
       "      <td>0.113289</td>\n",
       "      <td>0.097720</td>\n",
       "      <td>True</td>\n",
       "      <td>False</td>\n",
       "    </tr>\n",
       "    <tr>\n",
       "      <th>1979-02-18</th>\n",
       "      <td>-5.528559</td>\n",
       "      <td>0.596105</td>\n",
       "      <td>0.042683</td>\n",
       "      <td>True</td>\n",
       "      <td>False</td>\n",
       "    </tr>\n",
       "    <tr>\n",
       "      <th>1979-02-28</th>\n",
       "      <td>-0.377483</td>\n",
       "      <td>0.621506</td>\n",
       "      <td>0.048709</td>\n",
       "      <td>True</td>\n",
       "      <td>False</td>\n",
       "    </tr>\n",
       "    <tr>\n",
       "      <th>...</th>\n",
       "      <th>...</th>\n",
       "      <td>...</td>\n",
       "      <td>...</td>\n",
       "      <td>...</td>\n",
       "      <td>...</td>\n",
       "      <td>...</td>\n",
       "    </tr>\n",
       "    <tr>\n",
       "      <th rowspan=\"5\" valign=\"top\">4</th>\n",
       "      <th>2018-11-15</th>\n",
       "      <td>-7.230792</td>\n",
       "      <td>-0.376390</td>\n",
       "      <td>0.568338</td>\n",
       "      <td>True</td>\n",
       "      <td>False</td>\n",
       "    </tr>\n",
       "    <tr>\n",
       "      <th>2018-11-25</th>\n",
       "      <td>-3.207582</td>\n",
       "      <td>-0.109452</td>\n",
       "      <td>0.628773</td>\n",
       "      <td>True</td>\n",
       "      <td>False</td>\n",
       "    </tr>\n",
       "    <tr>\n",
       "      <th>2018-12-05</th>\n",
       "      <td>-2.788919</td>\n",
       "      <td>-0.179714</td>\n",
       "      <td>0.524789</td>\n",
       "      <td>True</td>\n",
       "      <td>False</td>\n",
       "    </tr>\n",
       "    <tr>\n",
       "      <th>2018-12-15</th>\n",
       "      <td>2.139915</td>\n",
       "      <td>0.001925</td>\n",
       "      <td>0.369524</td>\n",
       "      <td>True</td>\n",
       "      <td>False</td>\n",
       "    </tr>\n",
       "    <tr>\n",
       "      <th>2018-12-25</th>\n",
       "      <td>1.974430</td>\n",
       "      <td>0.036217</td>\n",
       "      <td>0.193732</td>\n",
       "      <td>True</td>\n",
       "      <td>False</td>\n",
       "    </tr>\n",
       "  </tbody>\n",
       "</table>\n",
       "<p>6940 rows × 5 columns</p>\n",
       "</div>"
      ],
      "text/plain": [
       "                   3ts  1..1..sst  1..2..sst  TrainIsTrue  RV_mask\n",
       "0 1979-01-19 -2.848077   0.244833   0.142718         True    False\n",
       "  1979-01-29 -5.472298   0.080813   0.197305         True    False\n",
       "  1979-02-08 -8.489348   0.113289   0.097720         True    False\n",
       "  1979-02-18 -5.528559   0.596105   0.042683         True    False\n",
       "  1979-02-28 -0.377483   0.621506   0.048709         True    False\n",
       "...                ...        ...        ...          ...      ...\n",
       "4 2018-11-15 -7.230792  -0.376390   0.568338         True    False\n",
       "  2018-11-25 -3.207582  -0.109452   0.628773         True    False\n",
       "  2018-12-05 -2.788919  -0.179714   0.524789         True    False\n",
       "  2018-12-15  2.139915   0.001925   0.369524         True    False\n",
       "  2018-12-25  1.974430   0.036217   0.193732         True    False\n",
       "\n",
       "[6940 rows x 5 columns]"
      ]
     },
     "execution_count": 14,
     "metadata": {},
     "output_type": "execute_result"
    }
   ],
   "source": [
    "rg.df_data"
   ]
  },
  {
   "cell_type": "code",
   "execution_count": 15,
   "metadata": {},
   "outputs": [
    {
     "name": "stdout",
     "output_type": "stream",
     "text": [
      "Progress causal inference - traintest set 100%"
     ]
    }
   ],
   "source": [
    "rg.PCMCI_df_data()"
   ]
  },
  {
   "cell_type": "code",
   "execution_count": 16,
   "metadata": {},
   "outputs": [
    {
     "data": {
      "text/plain": [
       "\u001b[0;31mSignature:\u001b[0m \u001b[0mrg\u001b[0m\u001b[0;34m.\u001b[0m\u001b[0mPCMCI_get_links\u001b[0m\u001b[0;34m(\u001b[0m\u001b[0mvar\u001b[0m\u001b[0;34m:\u001b[0m \u001b[0mstr\u001b[0m \u001b[0;34m=\u001b[0m \u001b[0;32mNone\u001b[0m\u001b[0;34m,\u001b[0m \u001b[0malpha_level\u001b[0m\u001b[0;34m:\u001b[0m \u001b[0mfloat\u001b[0m \u001b[0;34m=\u001b[0m \u001b[0;36m0.05\u001b[0m\u001b[0;34m)\u001b[0m\u001b[0;34m\u001b[0m\u001b[0;34m\u001b[0m\u001b[0m\n",
       "\u001b[0;31mDocstring:\u001b[0m\n",
       "Parameters\n",
       "----------\n",
       "var : str, optional\n",
       "    Specify variable you want to retrieve links for. If None, returns\n",
       "    links toward target variable\n",
       "alpha_level : float, optional\n",
       "    significance threshold. The default is .05.\n",
       "\n",
       "Returns\n",
       "-------\n",
       "DataFrame of MCI coefficients and alpha values _toward_ var.\n",
       "\u001b[0;31mFile:\u001b[0m      ~/surfdrive/Scripts/RGCPD/RGCPD/class_RGCPD.py\n",
       "\u001b[0;31mType:\u001b[0m      method\n"
      ]
     },
     "metadata": {},
     "output_type": "display_data"
    }
   ],
   "source": [
    "rg.PCMCI_get_links?"
   ]
  },
  {
   "cell_type": "code",
   "execution_count": 17,
   "metadata": {},
   "outputs": [
    {
     "data": {
      "text/html": [
       "<div>\n",
       "<style scoped>\n",
       "    .dataframe tbody tr th:only-of-type {\n",
       "        vertical-align: middle;\n",
       "    }\n",
       "\n",
       "    .dataframe tbody tr th {\n",
       "        vertical-align: top;\n",
       "    }\n",
       "\n",
       "    .dataframe thead th {\n",
       "        text-align: right;\n",
       "    }\n",
       "</style>\n",
       "<table border=\"1\" class=\"dataframe\">\n",
       "  <thead>\n",
       "    <tr style=\"text-align: right;\">\n",
       "      <th></th>\n",
       "      <th></th>\n",
       "      <th>0</th>\n",
       "      <th>1</th>\n",
       "    </tr>\n",
       "  </thead>\n",
       "  <tbody>\n",
       "    <tr>\n",
       "      <th rowspan=\"3\" valign=\"top\">0</th>\n",
       "      <th>3ts</th>\n",
       "      <td>False</td>\n",
       "      <td>True</td>\n",
       "    </tr>\n",
       "    <tr>\n",
       "      <th>1..1..sst</th>\n",
       "      <td>True</td>\n",
       "      <td>False</td>\n",
       "    </tr>\n",
       "    <tr>\n",
       "      <th>1..2..sst</th>\n",
       "      <td>True</td>\n",
       "      <td>False</td>\n",
       "    </tr>\n",
       "    <tr>\n",
       "      <th rowspan=\"3\" valign=\"top\">1</th>\n",
       "      <th>3ts</th>\n",
       "      <td>False</td>\n",
       "      <td>True</td>\n",
       "    </tr>\n",
       "    <tr>\n",
       "      <th>1..1..sst</th>\n",
       "      <td>True</td>\n",
       "      <td>False</td>\n",
       "    </tr>\n",
       "    <tr>\n",
       "      <th>1..2..sst</th>\n",
       "      <td>True</td>\n",
       "      <td>False</td>\n",
       "    </tr>\n",
       "    <tr>\n",
       "      <th rowspan=\"3\" valign=\"top\">2</th>\n",
       "      <th>3ts</th>\n",
       "      <td>False</td>\n",
       "      <td>True</td>\n",
       "    </tr>\n",
       "    <tr>\n",
       "      <th>1..1..sst</th>\n",
       "      <td>False</td>\n",
       "      <td>False</td>\n",
       "    </tr>\n",
       "    <tr>\n",
       "      <th>1..2..sst</th>\n",
       "      <td>True</td>\n",
       "      <td>False</td>\n",
       "    </tr>\n",
       "    <tr>\n",
       "      <th rowspan=\"3\" valign=\"top\">3</th>\n",
       "      <th>3ts</th>\n",
       "      <td>False</td>\n",
       "      <td>True</td>\n",
       "    </tr>\n",
       "    <tr>\n",
       "      <th>1..1..sst</th>\n",
       "      <td>True</td>\n",
       "      <td>False</td>\n",
       "    </tr>\n",
       "    <tr>\n",
       "      <th>1..2..sst</th>\n",
       "      <td>True</td>\n",
       "      <td>False</td>\n",
       "    </tr>\n",
       "    <tr>\n",
       "      <th rowspan=\"3\" valign=\"top\">4</th>\n",
       "      <th>3ts</th>\n",
       "      <td>False</td>\n",
       "      <td>True</td>\n",
       "    </tr>\n",
       "    <tr>\n",
       "      <th>1..1..sst</th>\n",
       "      <td>False</td>\n",
       "      <td>False</td>\n",
       "    </tr>\n",
       "    <tr>\n",
       "      <th>1..2..sst</th>\n",
       "      <td>True</td>\n",
       "      <td>False</td>\n",
       "    </tr>\n",
       "  </tbody>\n",
       "</table>\n",
       "</div>"
      ],
      "text/plain": [
       "                 0      1\n",
       "0 3ts        False   True\n",
       "  1..1..sst   True  False\n",
       "  1..2..sst   True  False\n",
       "1 3ts        False   True\n",
       "  1..1..sst   True  False\n",
       "  1..2..sst   True  False\n",
       "2 3ts        False   True\n",
       "  1..1..sst  False  False\n",
       "  1..2..sst   True  False\n",
       "3 3ts        False   True\n",
       "  1..1..sst   True  False\n",
       "  1..2..sst   True  False\n",
       "4 3ts        False   True\n",
       "  1..1..sst  False  False\n",
       "  1..2..sst   True  False"
      ]
     },
     "execution_count": 17,
     "metadata": {},
     "output_type": "execute_result"
    }
   ],
   "source": [
    "rg.PCMCI_get_links(var=rg.TV.name, alpha_level=.05)\n",
    "rg.df_links"
   ]
  },
  {
   "cell_type": "code",
   "execution_count": 18,
   "metadata": {},
   "outputs": [
    {
     "name": "stdout",
     "output_type": "stream",
     "text": [
      "\n",
      "Plotting all fields significant at alpha_level_tig, while conditioning on parents that were found in the PC step\n",
      "Plotting Corr maps sst_labels, split 0, lag sst_labels\n",
      "Plotting Corr maps sst_labels, split 0, lag sst_labels_tigr\n"
     ]
    },
    {
     "data": {
      "image/png": "[encoded data removed]",
      "text/plain": [
       "<Figure size 1195.2x216 with 3 Axes>"
      ]
     },
     "metadata": {
      "needs_background": "light"
     },
     "output_type": "display_data"
    },
    {
     "name": "stdout",
     "output_type": "stream",
     "text": [
      "Plotting Corr maps sst_labels, split 0, lag sst_labels\n",
      "Plotting Corr maps sst_labels, split 0, lag sst_labels_tigr\n"
     ]
    },
    {
     "data": {
      "image/png": "[encoded data removed]",
      "text/plain": [
       "<Figure size 1195.2x216 with 3 Axes>"
      ]
     },
     "metadata": {
      "needs_background": "light"
     },
     "output_type": "display_data"
    },
    {
     "name": "stdout",
     "output_type": "stream",
     "text": [
      "\n",
      "Plotting all fields significant at alpha_level_tig, while conditioning on parents that were found in the PC step\n",
      "Plotting Corr maps sst_corr_and_tigr, split 0, lag sst_corr\n",
      "Plotting Corr maps sst_corr_and_tigr, split 0, lag sst_corr_tigr\n"
     ]
    },
    {
     "data": {
      "image/png": "[encoded data removed]",
      "text/plain": [
       "<Figure size 1008x180 with 3 Axes>"
      ]
     },
     "metadata": {
      "needs_background": "light"
     },
     "output_type": "display_data"
    }
   ],
   "source": [
    "# on the left you see all the extraction precursor regions, on the right you see the regions which were found Conditionally Dependent (~Causal)\n",
    "rg.plot_maps_sum()"
   ]
  },
  {
   "cell_type": "code",
   "execution_count": 19,
   "metadata": {},
   "outputs": [
    {
     "data": {
      "text/html": [
       "<div>\n",
       "<style scoped>\n",
       "    .dataframe tbody tr th:only-of-type {\n",
       "        vertical-align: middle;\n",
       "    }\n",
       "\n",
       "    .dataframe tbody tr th {\n",
       "        vertical-align: top;\n",
       "    }\n",
       "\n",
       "    .dataframe thead th {\n",
       "        text-align: right;\n",
       "    }\n",
       "</style>\n",
       "<table border=\"1\" class=\"dataframe\">\n",
       "  <thead>\n",
       "    <tr style=\"text-align: right;\">\n",
       "      <th></th>\n",
       "      <th></th>\n",
       "      <th>3ts</th>\n",
       "      <th>1..1..sst</th>\n",
       "      <th>1..2..sst</th>\n",
       "      <th>TrainIsTrue</th>\n",
       "      <th>RV_mask</th>\n",
       "    </tr>\n",
       "  </thead>\n",
       "  <tbody>\n",
       "    <tr>\n",
       "      <th rowspan=\"5\" valign=\"top\">0</th>\n",
       "      <th>1979-01-19</th>\n",
       "      <td>-2.848077</td>\n",
       "      <td>0.244833</td>\n",
       "      <td>0.142718</td>\n",
       "      <td>True</td>\n",
       "      <td>False</td>\n",
       "    </tr>\n",
       "    <tr>\n",
       "      <th>1979-01-29</th>\n",
       "      <td>-5.472298</td>\n",
       "      <td>0.080813</td>\n",
       "      <td>0.197305</td>\n",
       "      <td>True</td>\n",
       "      <td>False</td>\n",
       "    </tr>\n",
       "    <tr>\n",
       "      <th>1979-02-08</th>\n",
       "      <td>-8.489348</td>\n",
       "      <td>0.113289</td>\n",
       "      <td>0.097720</td>\n",
       "      <td>True</td>\n",
       "      <td>False</td>\n",
       "    </tr>\n",
       "    <tr>\n",
       "      <th>1979-02-18</th>\n",
       "      <td>-5.528559</td>\n",
       "      <td>0.596105</td>\n",
       "      <td>0.042683</td>\n",
       "      <td>True</td>\n",
       "      <td>False</td>\n",
       "    </tr>\n",
       "    <tr>\n",
       "      <th>1979-02-28</th>\n",
       "      <td>-0.377483</td>\n",
       "      <td>0.621506</td>\n",
       "      <td>0.048709</td>\n",
       "      <td>True</td>\n",
       "      <td>False</td>\n",
       "    </tr>\n",
       "    <tr>\n",
       "      <th>...</th>\n",
       "      <th>...</th>\n",
       "      <td>...</td>\n",
       "      <td>...</td>\n",
       "      <td>...</td>\n",
       "      <td>...</td>\n",
       "      <td>...</td>\n",
       "    </tr>\n",
       "    <tr>\n",
       "      <th rowspan=\"5\" valign=\"top\">4</th>\n",
       "      <th>2018-11-15</th>\n",
       "      <td>-7.230792</td>\n",
       "      <td>-0.376390</td>\n",
       "      <td>0.568338</td>\n",
       "      <td>True</td>\n",
       "      <td>False</td>\n",
       "    </tr>\n",
       "    <tr>\n",
       "      <th>2018-11-25</th>\n",
       "      <td>-3.207582</td>\n",
       "      <td>-0.109452</td>\n",
       "      <td>0.628773</td>\n",
       "      <td>True</td>\n",
       "      <td>False</td>\n",
       "    </tr>\n",
       "    <tr>\n",
       "      <th>2018-12-05</th>\n",
       "      <td>-2.788919</td>\n",
       "      <td>-0.179714</td>\n",
       "      <td>0.524789</td>\n",
       "      <td>True</td>\n",
       "      <td>False</td>\n",
       "    </tr>\n",
       "    <tr>\n",
       "      <th>2018-12-15</th>\n",
       "      <td>2.139915</td>\n",
       "      <td>0.001925</td>\n",
       "      <td>0.369524</td>\n",
       "      <td>True</td>\n",
       "      <td>False</td>\n",
       "    </tr>\n",
       "    <tr>\n",
       "      <th>2018-12-25</th>\n",
       "      <td>1.974430</td>\n",
       "      <td>0.036217</td>\n",
       "      <td>0.193732</td>\n",
       "      <td>True</td>\n",
       "      <td>False</td>\n",
       "    </tr>\n",
       "  </tbody>\n",
       "</table>\n",
       "<p>6940 rows × 5 columns</p>\n",
       "</div>"
      ],
      "text/plain": [
       "                   3ts  1..1..sst  1..2..sst  TrainIsTrue  RV_mask\n",
       "0 1979-01-19 -2.848077   0.244833   0.142718         True    False\n",
       "  1979-01-29 -5.472298   0.080813   0.197305         True    False\n",
       "  1979-02-08 -8.489348   0.113289   0.097720         True    False\n",
       "  1979-02-18 -5.528559   0.596105   0.042683         True    False\n",
       "  1979-02-28 -0.377483   0.621506   0.048709         True    False\n",
       "...                ...        ...        ...          ...      ...\n",
       "4 2018-11-15 -7.230792  -0.376390   0.568338         True    False\n",
       "  2018-11-25 -3.207582  -0.109452   0.628773         True    False\n",
       "  2018-12-05 -2.788919  -0.179714   0.524789         True    False\n",
       "  2018-12-15  2.139915   0.001925   0.369524         True    False\n",
       "  2018-12-25  1.974430   0.036217   0.193732         True    False\n",
       "\n",
       "[6940 rows x 5 columns]"
      ]
     },
     "execution_count": 19,
     "metadata": {},
     "output_type": "execute_result"
    }
   ],
   "source": [
    "rg.df_data"
   ]
  },
  {
   "cell_type": "code",
   "execution_count": 20,
   "metadata": {},
   "outputs": [
    {
     "name": "stdout",
     "output_type": "stream",
     "text": [
      "Data stored in \n",
      "/Users/semvijverberg/surfdrive/Scripts/RGCPD/data/3ts_80d77_06-01-08-31_sst_random5s1_/pcmci_max_combinations2max_conds_dim1max_conds_px2max_conds_py2tau_max1tau_min0pc_alpha[0.01,0.05,0.1,0.2]_dt10.h5\n"
     ]
    }
   ],
   "source": [
    "rg.store_df_PCMCI()\n",
    "path_df_data = rg.path_df_data"
   ]
  },
  {
   "cell_type": "code",
   "execution_count": 21,
   "metadata": {},
   "outputs": [],
   "source": [
    "# Deprecated: rg.df_ParCorr_sum "
   ]
  },
  {
   "cell_type": "markdown",
   "metadata": {},
   "source": [
    "# Forecasting pipeline 1"
   ]
  },
  {
   "cell_type": "code",
   "execution_count": 88,
   "metadata": {},
   "outputs": [
    {
     "name": "stdout",
     "output_type": "stream",
     "text": [
      "Ridge \n",
      " Test score\n",
      " RMSE 0.11\n",
      " MAE 0.12\n",
      " corrcoef 0.45 \n",
      "Train score\n",
      " RMSE 0.13\n",
      " MAE 0.14\n",
      " corrcoef 0.48\n"
     ]
    }
   ],
   "source": [
    "import func_models as fc_utils\n",
    "from stat_models_cont import ScikitModel\n",
    "from sklearn.linear_model import Ridge\n",
    "from sklearn.ensemble import RandomForestClassifier\n",
    "from sklearn.linear_model import LogisticRegressionCV\n",
    "RFmodel = ScikitModel(RandomForestClassifier, verbosity=0)\n",
    "kwrgs_model={'n_estimators':200,\n",
    "            'max_depth':2,\n",
    "            'scoringCV':'neg_brier_score',\n",
    "            'oob_score':True,\n",
    "            # 'min_samples_leaf':None,\n",
    "            'random_state':0,\n",
    "            'max_samples':.3,\n",
    "            'n_jobs':1}\n",
    "\n",
    "# choose type prediciton (continuous or probabilistic) by making comment #\n",
    "prediction = 'continuous'   \n",
    "# prediction = 'events' ; q = .66 # quantile threshold for event definition\n",
    "\n",
    "if prediction == 'continuous':\n",
    "    model = ScikitModel(Ridge, verbosity=0)\n",
    "    # You can also tune parameters by passing a list of values. Then GridSearchCV from sklearn will \n",
    "    # find the set of parameters that give the best mean score on all kfold test sets. \n",
    "    # below we pass a list of alpha's to tune the regularization.\n",
    "    kwrgs_model = {'scoringCV':'neg_mean_absolute_error',\n",
    "                    'alpha':list(np.concatenate([[1E-20],np.logspace(-5,0, 6),\n",
    "                                             np.logspace(.01, 2.5, num=25)])), # large a, strong regul.\n",
    "                    'normalize':False,\n",
    "                    'fit_intercept':False,\n",
    "                    'kfold':5}\n",
    "elif prediction == 'events':\n",
    "    model = ScikitModel(LogisticRegressionCV, verbosity=0)\n",
    "    kwrgs_model = {'kfold':5,\n",
    "                   'scoring':'neg_brier_score'}\n",
    "\n",
    "    \n",
    "\n",
    "target_ts = rg.TV.RV_ts ; \n",
    "target_ts = (target_ts - target_ts.mean()) / target_ts.std()\n",
    "if prediction == 'events':\n",
    "    if q >= 0.5:\n",
    "        target_ts = (target_ts > target_ts.quantile(q)).astype(int)\n",
    "    elif q < .5:\n",
    "        target_ts = (target_ts < target_ts.quantile(q)).astype(int)\n",
    "    BSS = fc_utils.ErrorSkillScore(constant_bench=float(target_ts.mean())).BSS\n",
    "    score_func_list = [BSS, fc_utils.metrics.roc_auc_score]\n",
    "    \n",
    "elif prediction == 'continuous':\n",
    "    RMSE_SS = fc_utils.ErrorSkillScore(constant_bench=float(target_ts.mean())).RMSE\n",
    "    MAE_SS = fc_utils.ErrorSkillScore(constant_bench=float(target_ts.mean())).MAE\n",
    "    score_func_list = [RMSE_SS, fc_utils.corrcoef, MAE_SS]\n",
    "        \n",
    "    \n",
    "out = rg.fit_df_data_ridge(target=target_ts,\n",
    "                            keys=None,\n",
    "                            fcmodel=model,\n",
    "                            kwrgs_model=kwrgs_model,\n",
    "                            transformer=False,\n",
    "                            tau_min=1, tau_max=3)\n",
    "predict, weights, model_lags = out\n",
    "\n",
    "df_train_m, df_test_s_m, df_test_m, df_boot = fc_utils.get_scores(predict,\n",
    "                                                                 rg.df_data.iloc[:,-2:],\n",
    "                                                                 score_func_list,\n",
    "                                                                 n_boot = 100,\n",
    "                                                                 score_per_test=False,\n",
    "                                                                 blocksize=1,\n",
    "                                                                 rng_seed=1)\n",
    "if prediction == 'events':\n",
    "    lag = 1\n",
    "    print(model.scikitmodel.__name__, '\\n', f'Test score at lag {lag}\\n',\n",
    "          'BSS {:.2f}\\n'.format(df_test_m.loc[0].loc[lag].loc['BSS']),\n",
    "          'AUC {:.2f}'.format(df_test_m.loc[0].loc[lag].loc['roc_auc_score']),\n",
    "          '\\nTrain score\\n',\n",
    "          'BSS {:.2f}\\n'.format(df_train_m.mean(0).loc[lag]['BSS']),\n",
    "          'AUC {:.2f}'.format(df_train_m.mean(0).loc[lag]['roc_auc_score']))\n",
    "elif prediction == 'continuous':\n",
    "    print(model.scikitmodel.__name__, '\\n', 'Test score\\n',\n",
    "              'RMSE {:.2f}\\n'.format(df_test_m.loc[0][lag]['RMSE']),\n",
    "              'MAE {:.2f}\\n'.format(df_test_m.loc[0][lag]['MAE']),\n",
    "              'corrcoef {:.2f}'.format(df_test_m.loc[0][lag]['corrcoef']),\n",
    "              '\\nTrain score\\n',\n",
    "              'RMSE {:.2f}\\n'.format(df_train_m.mean(0).loc[lag]['RMSE']),\n",
    "              'MAE {:.2f}\\n'.format(df_train_m.mean(0).loc[lag]['MAE']),\n",
    "              'corrcoef {:.2f}'.format(df_train_m.mean(0).loc[lag]['corrcoef']))\n"
   ]
  },
  {
   "cell_type": "markdown",
   "metadata": {},
   "source": [
    "# Forecasting pipeline 2 \n",
    "Used for paper https://doi.org/10.1175/MWR-D-19-0409.1\n",
    "\n",
    "There is some multiprocessing based on Python's standard 'concurrent futures' module. This only works when run script is run in one go. Will not work another time. Has to do with the running the code as the __main__ file or something.. (don't know the details). "
   ]
  },
  {
   "cell_type": "markdown",
   "metadata": {},
   "source": [
    "Now we load in the data, including info on the causal links. "
   ]
  },
  {
   "cell_type": "code",
   "execution_count": 22,
   "metadata": {},
   "outputs": [],
   "source": [
    "from class_fc import fcev\n",
    "import valid_plots as dfplots"
   ]
  },
  {
   "cell_type": "code",
   "execution_count": 89,
   "metadata": {},
   "outputs": [
    {
     "name": "stdout",
     "output_type": "stream",
     "text": [
      "keys is None: Using all keys in training sets\n"
     ]
    },
    {
     "data": {
      "text/html": [
       "<div>\n",
       "<style scoped>\n",
       "    .dataframe tbody tr th:only-of-type {\n",
       "        vertical-align: middle;\n",
       "    }\n",
       "\n",
       "    .dataframe tbody tr th {\n",
       "        vertical-align: top;\n",
       "    }\n",
       "\n",
       "    .dataframe thead th {\n",
       "        text-align: right;\n",
       "    }\n",
       "</style>\n",
       "<table border=\"1\" class=\"dataframe\">\n",
       "  <thead>\n",
       "    <tr style=\"text-align: right;\">\n",
       "      <th></th>\n",
       "      <th></th>\n",
       "      <th>3ts</th>\n",
       "      <th>1..1..sst</th>\n",
       "      <th>1..2..sst</th>\n",
       "      <th>TrainIsTrue</th>\n",
       "      <th>RV_mask</th>\n",
       "    </tr>\n",
       "  </thead>\n",
       "  <tbody>\n",
       "    <tr>\n",
       "      <th rowspan=\"5\" valign=\"top\">0</th>\n",
       "      <th>1979-01-19</th>\n",
       "      <td>-2.848077</td>\n",
       "      <td>0.244833</td>\n",
       "      <td>0.142718</td>\n",
       "      <td>True</td>\n",
       "      <td>False</td>\n",
       "    </tr>\n",
       "    <tr>\n",
       "      <th>1979-01-29</th>\n",
       "      <td>-5.472298</td>\n",
       "      <td>0.080813</td>\n",
       "      <td>0.197305</td>\n",
       "      <td>True</td>\n",
       "      <td>False</td>\n",
       "    </tr>\n",
       "    <tr>\n",
       "      <th>1979-02-08</th>\n",
       "      <td>-8.489348</td>\n",
       "      <td>0.113289</td>\n",
       "      <td>0.097720</td>\n",
       "      <td>True</td>\n",
       "      <td>False</td>\n",
       "    </tr>\n",
       "    <tr>\n",
       "      <th>1979-02-18</th>\n",
       "      <td>-5.528559</td>\n",
       "      <td>0.596105</td>\n",
       "      <td>0.042683</td>\n",
       "      <td>True</td>\n",
       "      <td>False</td>\n",
       "    </tr>\n",
       "    <tr>\n",
       "      <th>1979-02-28</th>\n",
       "      <td>-0.377483</td>\n",
       "      <td>0.621506</td>\n",
       "      <td>0.048709</td>\n",
       "      <td>True</td>\n",
       "      <td>False</td>\n",
       "    </tr>\n",
       "    <tr>\n",
       "      <th>...</th>\n",
       "      <th>...</th>\n",
       "      <td>...</td>\n",
       "      <td>...</td>\n",
       "      <td>...</td>\n",
       "      <td>...</td>\n",
       "      <td>...</td>\n",
       "    </tr>\n",
       "    <tr>\n",
       "      <th rowspan=\"5\" valign=\"top\">4</th>\n",
       "      <th>2018-11-15</th>\n",
       "      <td>-7.230792</td>\n",
       "      <td>-0.376390</td>\n",
       "      <td>0.568338</td>\n",
       "      <td>True</td>\n",
       "      <td>False</td>\n",
       "    </tr>\n",
       "    <tr>\n",
       "      <th>2018-11-25</th>\n",
       "      <td>-3.207582</td>\n",
       "      <td>-0.109452</td>\n",
       "      <td>0.628773</td>\n",
       "      <td>True</td>\n",
       "      <td>False</td>\n",
       "    </tr>\n",
       "    <tr>\n",
       "      <th>2018-12-05</th>\n",
       "      <td>-2.788919</td>\n",
       "      <td>-0.179714</td>\n",
       "      <td>0.524789</td>\n",
       "      <td>True</td>\n",
       "      <td>False</td>\n",
       "    </tr>\n",
       "    <tr>\n",
       "      <th>2018-12-15</th>\n",
       "      <td>2.139915</td>\n",
       "      <td>0.001925</td>\n",
       "      <td>0.369524</td>\n",
       "      <td>True</td>\n",
       "      <td>False</td>\n",
       "    </tr>\n",
       "    <tr>\n",
       "      <th>2018-12-25</th>\n",
       "      <td>1.974430</td>\n",
       "      <td>0.036217</td>\n",
       "      <td>0.193732</td>\n",
       "      <td>True</td>\n",
       "      <td>False</td>\n",
       "    </tr>\n",
       "  </tbody>\n",
       "</table>\n",
       "<p>6940 rows × 5 columns</p>\n",
       "</div>"
      ],
      "text/plain": [
       "                   3ts  1..1..sst  1..2..sst  TrainIsTrue  RV_mask\n",
       "0 1979-01-19 -2.848077   0.244833   0.142718         True    False\n",
       "  1979-01-29 -5.472298   0.080813   0.197305         True    False\n",
       "  1979-02-08 -8.489348   0.113289   0.097720         True    False\n",
       "  1979-02-18 -5.528559   0.596105   0.042683         True    False\n",
       "  1979-02-28 -0.377483   0.621506   0.048709         True    False\n",
       "...                ...        ...        ...          ...      ...\n",
       "4 2018-11-15 -7.230792  -0.376390   0.568338         True    False\n",
       "  2018-11-25 -3.207582  -0.109452   0.628773         True    False\n",
       "  2018-12-05 -2.788919  -0.179714   0.524789         True    False\n",
       "  2018-12-15  2.139915   0.001925   0.369524         True    False\n",
       "  2018-12-25  1.974430   0.036217   0.193732         True    False\n",
       "\n",
       "[6940 rows x 5 columns]"
      ]
     },
     "execution_count": 89,
     "metadata": {},
     "output_type": "execute_result"
    }
   ],
   "source": [
    "fc = fcev(path_data=path_df_data, n_cpu=1, causal=True)\n",
    "fc.df_data"
   ]
  },
  {
   "cell_type": "code",
   "execution_count": 90,
   "metadata": {},
   "outputs": [],
   "source": [
    "fc.get_TV(kwrgs_events=None)"
   ]
  },
  {
   "cell_type": "markdown",
   "metadata": {},
   "source": [
    "Define statmodel:"
   ]
  },
  {
   "cell_type": "code",
   "execution_count": 91,
   "metadata": {},
   "outputs": [
    {
     "data": {
      "text/plain": [
       "\u001b[0;31mSignature:\u001b[0m \u001b[0mfc\u001b[0m\u001b[0;34m.\u001b[0m\u001b[0mfit_models\u001b[0m\u001b[0;34m(\u001b[0m\u001b[0mlead_max\u001b[0m\u001b[0;34m=\u001b[0m\u001b[0marray\u001b[0m\u001b[0;34m(\u001b[0m\u001b[0;34m[\u001b[0m\u001b[0;36m1\u001b[0m\u001b[0;34m]\u001b[0m\u001b[0;34m)\u001b[0m\u001b[0;34m,\u001b[0m \u001b[0mverbosity\u001b[0m\u001b[0;34m=\u001b[0m\u001b[0;32mNone\u001b[0m\u001b[0;34m)\u001b[0m\u001b[0;34m\u001b[0m\u001b[0;34m\u001b[0m\u001b[0m\n",
       "\u001b[0;31mDocstring:\u001b[0m\n",
       "stat_model_l:   list of with model string and kwrgs\n",
       "keys_d      :   dict, with keys : list of variables to fit, if None\n",
       "                all keys in each training set will be used to fit.\n",
       "                If string is given, exp_py will follow some rules to\n",
       "                keep only keys you want to fit.\n",
       "precur_aggr:  int: convert daily data to aggregated {int} day mean\n",
       "\u001b[0;31mFile:\u001b[0m      ~/surfdrive/Scripts/RGCPD/forecasting/class_fc.py\n",
       "\u001b[0;31mType:\u001b[0m      method\n"
      ]
     },
     "metadata": {},
     "output_type": "display_data"
    }
   ],
   "source": [
    "fc.fit_models?\n"
   ]
  },
  {
   "cell_type": "code",
   "execution_count": null,
   "metadata": {},
   "outputs": [
    {
     "name": "stdout",
     "output_type": "stream",
     "text": [
      "tfreq: 10, max lag: 4, i.e. 35 days\n",
      "('logit', None)\n"
     ]
    }
   ],
   "source": [
    "fc.fit_models(lead_max=35)"
   ]
  },
  {
   "cell_type": "code",
   "execution_count": null,
   "metadata": {},
   "outputs": [],
   "source": [
    "dict_experiments = {}       \n",
    "fc.perform_validation(n_boot=100, blocksize='auto', \n",
    "                              threshold_pred=(1.5, 'times_clim'))\n",
    "dict_experiments['test'] = fc.dict_sum"
   ]
  },
  {
   "cell_type": "code",
   "execution_count": 28,
   "metadata": {},
   "outputs": [
    {
     "name": "stdout",
     "output_type": "stream",
     "text": [
      "\n",
      "Event settings:\n",
      "\n",
      "\n",
      "***Experiment 1***\n",
      "\n",
      "\n",
      "Title \t : exper_1\n",
      "file \t : /Users/semvijverberg/surfdrive/Scripts/RGCPD/data/3ts_80d77_06-01-08-31_sst_random5s1_/pcmci_max_combinations2max_conds_dim1max_conds_px2max_conds_py2tau_max1tau_min0pc_alpha[0.01,0.05,0.1,0.2]_dt10.h5\n",
      "kwrgs_events \t : {'event_percentile': 66, 'min_dur': 1, 'max_break': 0, 'grouped': False, 'window': 'mean'}\n",
      "kwrgs_pp \t : {}\n",
      "TV dates: \t ('6-8', '8-27')\n",
      "tfreq: \t 10\n",
      "precur_aggr: \t None\n",
      "TV_aggr: \t None\n",
      "alpha \t : 0.05\n",
      "nboot: 100\n",
      "stat_models:\n",
      "('logit', None)\n",
      "fold: None\n",
      "fc threshold: (1.5, 'times_clim')\n"
     ]
    }
   ],
   "source": [
    "working_folder, filename = fc._print_sett(list_of_fc=[fc])\n",
    "store=True\n",
    "dict_all = dfplots.merge_valid_info([fc], store=store)\n",
    "if store:\n",
    "    dict_merge_all = functions_pp.load_hdf5(filename)"
   ]
  },
  {
   "cell_type": "code",
   "execution_count": 29,
   "metadata": {},
   "outputs": [
    {
     "data": {
      "image/png": "[encoded data removed]",
      "text/plain": [
       "<Figure size 1260x600 with 7 Axes>"
      ]
     },
     "metadata": {
      "needs_background": "light"
     },
     "output_type": "display_data"
    }
   ],
   "source": [
    "\n",
    "kwrgs = {'wspace':0.25, 'col_wrap':3} #, 'threshold_bin':fc.threshold_pred}\n",
    "met = ['AUC-ROC', 'AUC-PR', 'BSS', 'Rel. Curve', 'Precision', 'Accuracy']\n",
    "expers = list(dict_experiments.keys())\n",
    "line_dim = 'model'\n",
    "\n",
    "\n",
    "fig = dfplots.valid_figures(dict_merge_all, #expers=expers, #models=models,\n",
    "                          line_dim=line_dim, \n",
    "                          group_line_by=None,  \n",
    "                          met=met, **kwrgs)"
   ]
  },
  {
   "cell_type": "code",
   "execution_count": null,
   "metadata": {},
   "outputs": [],
   "source": []
  }
 ],
 "metadata": {
  "kernelspec": {
   "display_name": "Python 3",
   "language": "python",
   "name": "python3"
  },
  "language_info": {
   "codemirror_mode": {
    "name": "ipython",
    "version": 3
   },
   "file_extension": ".py",
   "mimetype": "text/x-python",
   "name": "python",
   "nbconvert_exporter": "python",
   "pygments_lexer": "ipython3",
   "version": "3.7.3"
  }
 },
 "nbformat": 4,
 "nbformat_minor": 4
}
