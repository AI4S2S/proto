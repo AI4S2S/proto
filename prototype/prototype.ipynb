{
 "cells": [
  {
   "cell_type": "code",
   "execution_count": null,
   "metadata": {},
   "outputs": [],
   "source": [
    "import S2Sinit\n",
    "import climpp\n",
    "import pandas as pd"
   ]
  },
  {
   "cell_type": "markdown",
   "metadata": {},
   "source": [
    "Initialize the workflow."
   ]
  },
  {
   "cell_type": "code",
   "execution_count": null,
   "metadata": {},
   "outputs": [],
   "source": [
    "# define parameters for time config\n",
    "start_year= 1979\n",
    "end_year = 2020\n",
    "target_start  = '11-01'\n",
    "target_end  = '12-01'\n",
    "freq = '2M' # two month means, with pandas\n",
    "# define parameters for cross-validator\n",
    "max_lag = 5\n",
    "k = 10\n",
    "\n",
    "# this function only allows single target period\n",
    "# data on the same coordinate\n",
    "initializer = S2Sinit(start_year, end_year, target_start,\n",
    "                        target_end, freq)\n",
    "                \n",
    "# ------------------ optional procedure\n",
    "# call cross validator\n",
    "initializer.cv.kfold(max_lag, k) # only specify parameters for cross-validation"
   ]
  },
  {
   "cell_type": "markdown",
   "metadata": {},
   "source": [
    "Preprocessing."
   ]
  },
  {
   "cell_type": "code",
   "execution_count": null,
   "metadata": {},
   "outputs": [],
   "source": [
    "# define parameters for preprocessing\n",
    "path2target = 'path/target_var'\n",
    "path2sst = 'path/sst'\n",
    "path2z500 = 'path/z500'\n",
    "# preprocess recipe for target variable\n",
    "preprocess_steps_target = ['detrend', 'deseasonalize', 'standardize']\n",
    "# preprocess recipe for precursors\n",
    "preprocess_steps_sst = ['detrend', 'deseasonalize', 'standardize']\n",
    "preprocess_steps_z500 = ['detrend', 'deseasonalize']\n",
    "\n",
    "# preprocess target\n",
    "target_instance = climpp(initializer, path2target, preprocess_steps_target)\n",
    "target_instance = climpp(initializer, path2target, preprocess_steps_target)\n",
    "# preprocess precursor sst\n",
    "sst_instance = climpp(initializer, path2sst, preprocess_steps_sst)\n",
    "z500_instance = climpp(initializer, path2z500, preprocess_steps_z500)\n",
    "\n",
    "# execute preprocessing steps\n"
   ]
  }
 ],
 "metadata": {
  "language_info": {
   "name": "python"
  },
  "orig_nbformat": 4
 },
 "nbformat": 4,
 "nbformat_minor": 2
}
